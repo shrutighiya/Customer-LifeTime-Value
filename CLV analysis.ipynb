{
 "cells": [
  {
   "cell_type": "markdown",
   "id": "807f3cf6",
   "metadata": {},
   "source": [
    "# Customer Lifetime Value Anaylsis"
   ]
  },
  {
   "cell_type": "markdown",
   "id": "de8ccb81",
   "metadata": {},
   "source": [
    "In marketing Customer Lifetime Value (CLTV or CLV) is a prognostication of the net profit contributed to the whole future relationship with a customer. Or in other words, it is the monetary value that represents the amount of revenue or profits a customer will bring to the company over a period of the relationship.  And CLV will help the business understand its customers better in following ways.\n",
    "•\tHelps engagement with the customer appropriately\n",
    "•\tHelps in customer retention strategies\n",
    "•\tCan identify the most profitable customers and their segmentation\n",
    "•\tCan enhance customer acquisition strategies\n",
    "\n",
    "<b> How to Calculate Customer Lifetime Value </b>\n",
    "There are so many different ways to calculate Customer Lifetime Value. For this project we are using the following formula:\n",
    "\n",
    "<div class=\"alert alert-block alert-info\">\n",
    "<b>Formula:</b> \n",
    "    \n",
    ">$CLTV = ((Average Order Value * Purchase Frequency)/Churn Rate)* Profit Margin $ <br>\n",
    "\n",
    ">$Customer Value = Average Order Value * Purchase Frequency $ <br>\n",
    "\n",
    "</div>\n",
    "\n",
    "Where:<br>\n",
    "<b>Average Order Value(AOV)</b> is the ratio of Total revenue and the total number of orders. It is the Average amount that a customer spends on an order. <br>\n",
    "\n",
    "<div class=\"alert alert-block alert-info\">\n",
    "<b>Formula:</b> \n",
    "    \n",
    ">$AOV= Total Revenue/Total Number of Orders$ <br>\n",
    "    \n",
    "</div>\n",
    "\n",
    "<b> Purchase Frequency(PF)</b> is the ration of the total number of orders and the total customers<br>\n",
    "<div class=\"alert alert-block alert-info\">\n",
    "<b>Formula:</b> \n",
    "    \n",
    ">$PF = Total Number of Order / Total number of Customers$<br>\n",
    "\n",
    "</div>\n",
    "\n",
    "<b>Churn Rate</b> is the percentage of customers who have not ordered again.<br>\n",
    "<div class=\"alert alert-block alert-info\">\n",
    "<b>Formula:</b> \n",
    "    \n",
    ">$Churn Rate = 1 - Repeat Rate$\n",
    "    \n",
    "</div>\n",
    "\n",
    "<b>Customer Lifetime</b> is the period when the customer is ordering continuously. \n",
    "<div class=\"alert alert-block alert-info\">\n",
    "<b>Formula:</b> \n",
    "    \n",
    ">$Customer Lifetime = 1/Churn Rate$\n",
    "    \n",
    "</div>\n",
    "    \n",
    "<b> Repeat Rate</b> is the ratio of number of customers with more than one order to the number of unique customers. For example id you have 5 customer bought in a month and out of those 5, 2 come back, your repeat rate is 40%<br>\n",
    "\n",
    "\n",
    "\n",
    "\n",
    "\n",
    "\n",
    "\n"
   ]
  },
  {
   "cell_type": "markdown",
   "id": "669e32eb",
   "metadata": {},
   "source": [
    "## CLTV calcuation using Python"
   ]
  },
  {
   "cell_type": "markdown",
   "id": "58cfbad7",
   "metadata": {},
   "source": [
    "### Importing required Library "
   ]
  },
  {
   "cell_type": "code",
   "execution_count": 2,
   "id": "db8926dc",
   "metadata": {},
   "outputs": [],
   "source": [
    "import pandas as pd\n",
    "import seaborn as sns\n",
    "\n",
    "import matplotlib.pyplot as plt\n",
    "import numpy as np\n",
    "import datetime as dt\n",
    "\n",
    "import missingno as msno\n",
    "from textwrap import wrap\n",
    "\n",
    "import os"
   ]
  },
  {
   "cell_type": "markdown",
   "id": "2cc3b50a",
   "metadata": {},
   "source": [
    "<b> Loading Dataset </b> <br>\n",
    "\n",
    "Before loading dataset, using OS library to reach the directory where file is save. And then using Panda Read Function to load the dataset"
   ]
  },
  {
   "cell_type": "code",
   "execution_count": 3,
   "id": "d109754e",
   "metadata": {},
   "outputs": [],
   "source": [
    "os.chdir('C:\\\\Users\\\\Dell\\\\OneDrive\\Desktop\\\\Retention project file')\n",
    "         "
   ]
  },
  {
   "cell_type": "code",
   "execution_count": 4,
   "id": "f024aa49",
   "metadata": {},
   "outputs": [],
   "source": [
    "transaction_df = pd.read_excel('transaction.xlsx')"
   ]
  },
  {
   "cell_type": "code",
   "execution_count": 5,
   "id": "b34f55c6",
   "metadata": {},
   "outputs": [
    {
     "data": {
      "text/html": [
       "<div>\n",
       "<style scoped>\n",
       "    .dataframe tbody tr th:only-of-type {\n",
       "        vertical-align: middle;\n",
       "    }\n",
       "\n",
       "    .dataframe tbody tr th {\n",
       "        vertical-align: top;\n",
       "    }\n",
       "\n",
       "    .dataframe thead th {\n",
       "        text-align: right;\n",
       "    }\n",
       "</style>\n",
       "<table border=\"1\" class=\"dataframe\">\n",
       "  <thead>\n",
       "    <tr style=\"text-align: right;\">\n",
       "      <th></th>\n",
       "      <th>transaction_id</th>\n",
       "      <th>product_id</th>\n",
       "      <th>customer_id</th>\n",
       "      <th>transaction_date</th>\n",
       "      <th>online_order</th>\n",
       "      <th>order_status</th>\n",
       "      <th>brand</th>\n",
       "      <th>product_line</th>\n",
       "      <th>product_class</th>\n",
       "      <th>product_size</th>\n",
       "      <th>list_price</th>\n",
       "      <th>standard_cost</th>\n",
       "      <th>product_first_sold_date</th>\n",
       "    </tr>\n",
       "  </thead>\n",
       "  <tbody>\n",
       "    <tr>\n",
       "      <th>0</th>\n",
       "      <td>1</td>\n",
       "      <td>2</td>\n",
       "      <td>2950</td>\n",
       "      <td>2017-02-25</td>\n",
       "      <td>0.0</td>\n",
       "      <td>Approved</td>\n",
       "      <td>Solex</td>\n",
       "      <td>Standard</td>\n",
       "      <td>medium</td>\n",
       "      <td>medium</td>\n",
       "      <td>71.49</td>\n",
       "      <td>53.62</td>\n",
       "      <td>41245.0</td>\n",
       "    </tr>\n",
       "    <tr>\n",
       "      <th>1</th>\n",
       "      <td>2</td>\n",
       "      <td>3</td>\n",
       "      <td>3120</td>\n",
       "      <td>2017-05-21</td>\n",
       "      <td>1.0</td>\n",
       "      <td>Approved</td>\n",
       "      <td>Trek Bicycles</td>\n",
       "      <td>Standard</td>\n",
       "      <td>medium</td>\n",
       "      <td>large</td>\n",
       "      <td>2091.47</td>\n",
       "      <td>388.92</td>\n",
       "      <td>41701.0</td>\n",
       "    </tr>\n",
       "    <tr>\n",
       "      <th>2</th>\n",
       "      <td>3</td>\n",
       "      <td>37</td>\n",
       "      <td>402</td>\n",
       "      <td>2017-10-16</td>\n",
       "      <td>0.0</td>\n",
       "      <td>Approved</td>\n",
       "      <td>OHM Cycles</td>\n",
       "      <td>Standard</td>\n",
       "      <td>low</td>\n",
       "      <td>medium</td>\n",
       "      <td>1793.43</td>\n",
       "      <td>248.82</td>\n",
       "      <td>36361.0</td>\n",
       "    </tr>\n",
       "    <tr>\n",
       "      <th>3</th>\n",
       "      <td>4</td>\n",
       "      <td>88</td>\n",
       "      <td>3135</td>\n",
       "      <td>2017-08-31</td>\n",
       "      <td>0.0</td>\n",
       "      <td>Approved</td>\n",
       "      <td>Norco Bicycles</td>\n",
       "      <td>Standard</td>\n",
       "      <td>medium</td>\n",
       "      <td>medium</td>\n",
       "      <td>1198.46</td>\n",
       "      <td>381.10</td>\n",
       "      <td>36145.0</td>\n",
       "    </tr>\n",
       "    <tr>\n",
       "      <th>4</th>\n",
       "      <td>5</td>\n",
       "      <td>78</td>\n",
       "      <td>787</td>\n",
       "      <td>2017-10-01</td>\n",
       "      <td>1.0</td>\n",
       "      <td>Approved</td>\n",
       "      <td>Giant Bicycles</td>\n",
       "      <td>Standard</td>\n",
       "      <td>medium</td>\n",
       "      <td>large</td>\n",
       "      <td>1765.30</td>\n",
       "      <td>709.48</td>\n",
       "      <td>42226.0</td>\n",
       "    </tr>\n",
       "  </tbody>\n",
       "</table>\n",
       "</div>"
      ],
      "text/plain": [
       "   transaction_id  product_id  customer_id transaction_date  online_order  \\\n",
       "0               1           2         2950       2017-02-25           0.0   \n",
       "1               2           3         3120       2017-05-21           1.0   \n",
       "2               3          37          402       2017-10-16           0.0   \n",
       "3               4          88         3135       2017-08-31           0.0   \n",
       "4               5          78          787       2017-10-01           1.0   \n",
       "\n",
       "  order_status           brand product_line product_class product_size  \\\n",
       "0     Approved           Solex     Standard        medium       medium   \n",
       "1     Approved   Trek Bicycles     Standard        medium        large   \n",
       "2     Approved      OHM Cycles     Standard           low       medium   \n",
       "3     Approved  Norco Bicycles     Standard        medium       medium   \n",
       "4     Approved  Giant Bicycles     Standard        medium        large   \n",
       "\n",
       "   list_price  standard_cost  product_first_sold_date  \n",
       "0       71.49          53.62                  41245.0  \n",
       "1     2091.47         388.92                  41701.0  \n",
       "2     1793.43         248.82                  36361.0  \n",
       "3     1198.46         381.10                  36145.0  \n",
       "4     1765.30         709.48                  42226.0  "
      ]
     },
     "execution_count": 5,
     "metadata": {},
     "output_type": "execute_result"
    }
   ],
   "source": [
    "transaction_df.head()"
   ]
  },
  {
   "cell_type": "code",
   "execution_count": 6,
   "id": "211ed038",
   "metadata": {},
   "outputs": [
    {
     "name": "stdout",
     "output_type": "stream",
     "text": [
      "<class 'pandas.core.frame.DataFrame'>\n",
      "RangeIndex: 20000 entries, 0 to 19999\n",
      "Data columns (total 13 columns):\n",
      " #   Column                   Non-Null Count  Dtype         \n",
      "---  ------                   --------------  -----         \n",
      " 0   transaction_id           20000 non-null  int64         \n",
      " 1   product_id               20000 non-null  int64         \n",
      " 2   customer_id              20000 non-null  int64         \n",
      " 3   transaction_date         20000 non-null  datetime64[ns]\n",
      " 4   online_order             19640 non-null  float64       \n",
      " 5   order_status             20000 non-null  object        \n",
      " 6   brand                    19803 non-null  object        \n",
      " 7   product_line             19803 non-null  object        \n",
      " 8   product_class            19803 non-null  object        \n",
      " 9   product_size             19803 non-null  object        \n",
      " 10  list_price               20000 non-null  float64       \n",
      " 11  standard_cost            19803 non-null  float64       \n",
      " 12  product_first_sold_date  19803 non-null  float64       \n",
      "dtypes: datetime64[ns](1), float64(4), int64(3), object(5)\n",
      "memory usage: 2.0+ MB\n"
     ]
    }
   ],
   "source": [
    "transaction_df.info()"
   ]
  },
  {
   "cell_type": "markdown",
   "id": "dd449891",
   "metadata": {},
   "source": [
    "<b> Taking Care of Missing Values</b> <br>\n",
    "\n",
    "There was no way to find or retrieve the values of the blank fields or null values. So droping the rows using Dropna function"
   ]
  },
  {
   "cell_type": "code",
   "execution_count": 10,
   "id": "c4f997b8",
   "metadata": {},
   "outputs": [],
   "source": [
    "filtered_data = transaction_df.dropna(subset=['list_price', 'standard_cost'])"
   ]
  },
  {
   "cell_type": "code",
   "execution_count": 11,
   "id": "31e19196",
   "metadata": {},
   "outputs": [
    {
     "name": "stdout",
     "output_type": "stream",
     "text": [
      "<class 'pandas.core.frame.DataFrame'>\n",
      "Int64Index: 19803 entries, 0 to 19999\n",
      "Data columns (total 13 columns):\n",
      " #   Column                   Non-Null Count  Dtype         \n",
      "---  ------                   --------------  -----         \n",
      " 0   transaction_id           19803 non-null  int64         \n",
      " 1   product_id               19803 non-null  int64         \n",
      " 2   customer_id              19803 non-null  int64         \n",
      " 3   transaction_date         19803 non-null  datetime64[ns]\n",
      " 4   online_order             19445 non-null  float64       \n",
      " 5   order_status             19803 non-null  object        \n",
      " 6   brand                    19803 non-null  object        \n",
      " 7   product_line             19803 non-null  object        \n",
      " 8   product_class            19803 non-null  object        \n",
      " 9   product_size             19803 non-null  object        \n",
      " 10  list_price               19803 non-null  float64       \n",
      " 11  standard_cost            19803 non-null  float64       \n",
      " 12  product_first_sold_date  19803 non-null  float64       \n",
      "dtypes: datetime64[ns](1), float64(4), int64(3), object(5)\n",
      "memory usage: 2.1+ MB\n"
     ]
    }
   ],
   "source": [
    "filtered_data.info()"
   ]
  },
  {
   "cell_type": "code",
   "execution_count": 12,
   "id": "bc4e0dea",
   "metadata": {},
   "outputs": [
    {
     "data": {
      "text/html": [
       "<div>\n",
       "<style scoped>\n",
       "    .dataframe tbody tr th:only-of-type {\n",
       "        vertical-align: middle;\n",
       "    }\n",
       "\n",
       "    .dataframe tbody tr th {\n",
       "        vertical-align: top;\n",
       "    }\n",
       "\n",
       "    .dataframe thead th {\n",
       "        text-align: right;\n",
       "    }\n",
       "</style>\n",
       "<table border=\"1\" class=\"dataframe\">\n",
       "  <thead>\n",
       "    <tr style=\"text-align: right;\">\n",
       "      <th></th>\n",
       "      <th>transaction_id</th>\n",
       "      <th>product_id</th>\n",
       "      <th>customer_id</th>\n",
       "      <th>online_order</th>\n",
       "      <th>list_price</th>\n",
       "      <th>standard_cost</th>\n",
       "      <th>product_first_sold_date</th>\n",
       "    </tr>\n",
       "  </thead>\n",
       "  <tbody>\n",
       "    <tr>\n",
       "      <th>count</th>\n",
       "      <td>19803.000000</td>\n",
       "      <td>19803.000000</td>\n",
       "      <td>19803.000000</td>\n",
       "      <td>19445.000000</td>\n",
       "      <td>19803.000000</td>\n",
       "      <td>19803.000000</td>\n",
       "      <td>19803.000000</td>\n",
       "    </tr>\n",
       "    <tr>\n",
       "      <th>mean</th>\n",
       "      <td>9993.979650</td>\n",
       "      <td>45.815937</td>\n",
       "      <td>1739.294955</td>\n",
       "      <td>0.500849</td>\n",
       "      <td>1107.997866</td>\n",
       "      <td>556.046951</td>\n",
       "      <td>38199.776549</td>\n",
       "    </tr>\n",
       "    <tr>\n",
       "      <th>std</th>\n",
       "      <td>5776.499961</td>\n",
       "      <td>30.569841</td>\n",
       "      <td>1011.946353</td>\n",
       "      <td>0.500012</td>\n",
       "      <td>582.770460</td>\n",
       "      <td>405.955660</td>\n",
       "      <td>2875.201110</td>\n",
       "    </tr>\n",
       "    <tr>\n",
       "      <th>min</th>\n",
       "      <td>1.000000</td>\n",
       "      <td>0.000000</td>\n",
       "      <td>1.000000</td>\n",
       "      <td>0.000000</td>\n",
       "      <td>12.010000</td>\n",
       "      <td>7.210000</td>\n",
       "      <td>33259.000000</td>\n",
       "    </tr>\n",
       "    <tr>\n",
       "      <th>25%</th>\n",
       "      <td>4988.500000</td>\n",
       "      <td>18.000000</td>\n",
       "      <td>858.000000</td>\n",
       "      <td>0.000000</td>\n",
       "      <td>575.270000</td>\n",
       "      <td>215.140000</td>\n",
       "      <td>35667.000000</td>\n",
       "    </tr>\n",
       "    <tr>\n",
       "      <th>50%</th>\n",
       "      <td>9995.000000</td>\n",
       "      <td>45.000000</td>\n",
       "      <td>1738.000000</td>\n",
       "      <td>1.000000</td>\n",
       "      <td>1163.890000</td>\n",
       "      <td>507.580000</td>\n",
       "      <td>38216.000000</td>\n",
       "    </tr>\n",
       "    <tr>\n",
       "      <th>75%</th>\n",
       "      <td>15000.500000</td>\n",
       "      <td>72.000000</td>\n",
       "      <td>2615.000000</td>\n",
       "      <td>1.000000</td>\n",
       "      <td>1635.300000</td>\n",
       "      <td>795.100000</td>\n",
       "      <td>40672.000000</td>\n",
       "    </tr>\n",
       "    <tr>\n",
       "      <th>max</th>\n",
       "      <td>20000.000000</td>\n",
       "      <td>100.000000</td>\n",
       "      <td>5034.000000</td>\n",
       "      <td>1.000000</td>\n",
       "      <td>2091.470000</td>\n",
       "      <td>1759.850000</td>\n",
       "      <td>42710.000000</td>\n",
       "    </tr>\n",
       "  </tbody>\n",
       "</table>\n",
       "</div>"
      ],
      "text/plain": [
       "       transaction_id    product_id   customer_id  online_order    list_price  \\\n",
       "count    19803.000000  19803.000000  19803.000000  19445.000000  19803.000000   \n",
       "mean      9993.979650     45.815937   1739.294955      0.500849   1107.997866   \n",
       "std       5776.499961     30.569841   1011.946353      0.500012    582.770460   \n",
       "min          1.000000      0.000000      1.000000      0.000000     12.010000   \n",
       "25%       4988.500000     18.000000    858.000000      0.000000    575.270000   \n",
       "50%       9995.000000     45.000000   1738.000000      1.000000   1163.890000   \n",
       "75%      15000.500000     72.000000   2615.000000      1.000000   1635.300000   \n",
       "max      20000.000000    100.000000   5034.000000      1.000000   2091.470000   \n",
       "\n",
       "       standard_cost  product_first_sold_date  \n",
       "count   19803.000000             19803.000000  \n",
       "mean      556.046951             38199.776549  \n",
       "std       405.955660              2875.201110  \n",
       "min         7.210000             33259.000000  \n",
       "25%       215.140000             35667.000000  \n",
       "50%       507.580000             38216.000000  \n",
       "75%       795.100000             40672.000000  \n",
       "max      1759.850000             42710.000000  "
      ]
     },
     "execution_count": 12,
     "metadata": {},
     "output_type": "execute_result"
    }
   ],
   "source": [
    "filtered_data.describe()"
   ]
  },
  {
   "cell_type": "markdown",
   "id": "fb555629",
   "metadata": {},
   "source": [
    "<b>Flitering the required Columns</b><br> \n",
    "\n",
    "><b> Transaction_id </b> will help you count the frequency of the transaction performed <br>\n",
    "><b> Customer_id </b> will help you find unique customers <br>\n",
    "><b> Transaction_date</b> will help you find the number of days customer stays with the product<br>\n",
    "><b> List_price</b> will provide you the selling price <br>\n",
    "><b> Standard_cost</b> will provide the cost price<br>"
   ]
  },
  {
   "cell_type": "code",
   "execution_count": 13,
   "id": "2d0092ce",
   "metadata": {},
   "outputs": [],
   "source": [
    "filtered_data = filtered_data[['transaction_id','customer_id','transaction_date','list_price', 'standard_cost' ]]"
   ]
  },
  {
   "cell_type": "code",
   "execution_count": 14,
   "id": "d044c2a2",
   "metadata": {},
   "outputs": [
    {
     "data": {
      "text/html": [
       "<div>\n",
       "<style scoped>\n",
       "    .dataframe tbody tr th:only-of-type {\n",
       "        vertical-align: middle;\n",
       "    }\n",
       "\n",
       "    .dataframe tbody tr th {\n",
       "        vertical-align: top;\n",
       "    }\n",
       "\n",
       "    .dataframe thead th {\n",
       "        text-align: right;\n",
       "    }\n",
       "</style>\n",
       "<table border=\"1\" class=\"dataframe\">\n",
       "  <thead>\n",
       "    <tr style=\"text-align: right;\">\n",
       "      <th></th>\n",
       "      <th>transaction_id</th>\n",
       "      <th>customer_id</th>\n",
       "      <th>transaction_date</th>\n",
       "      <th>list_price</th>\n",
       "      <th>standard_cost</th>\n",
       "    </tr>\n",
       "  </thead>\n",
       "  <tbody>\n",
       "    <tr>\n",
       "      <th>0</th>\n",
       "      <td>1</td>\n",
       "      <td>2950</td>\n",
       "      <td>2017-02-25</td>\n",
       "      <td>71.49</td>\n",
       "      <td>53.62</td>\n",
       "    </tr>\n",
       "    <tr>\n",
       "      <th>1</th>\n",
       "      <td>2</td>\n",
       "      <td>3120</td>\n",
       "      <td>2017-05-21</td>\n",
       "      <td>2091.47</td>\n",
       "      <td>388.92</td>\n",
       "    </tr>\n",
       "    <tr>\n",
       "      <th>2</th>\n",
       "      <td>3</td>\n",
       "      <td>402</td>\n",
       "      <td>2017-10-16</td>\n",
       "      <td>1793.43</td>\n",
       "      <td>248.82</td>\n",
       "    </tr>\n",
       "    <tr>\n",
       "      <th>3</th>\n",
       "      <td>4</td>\n",
       "      <td>3135</td>\n",
       "      <td>2017-08-31</td>\n",
       "      <td>1198.46</td>\n",
       "      <td>381.10</td>\n",
       "    </tr>\n",
       "    <tr>\n",
       "      <th>4</th>\n",
       "      <td>5</td>\n",
       "      <td>787</td>\n",
       "      <td>2017-10-01</td>\n",
       "      <td>1765.30</td>\n",
       "      <td>709.48</td>\n",
       "    </tr>\n",
       "  </tbody>\n",
       "</table>\n",
       "</div>"
      ],
      "text/plain": [
       "   transaction_id  customer_id transaction_date  list_price  standard_cost\n",
       "0               1         2950       2017-02-25       71.49          53.62\n",
       "1               2         3120       2017-05-21     2091.47         388.92\n",
       "2               3          402       2017-10-16     1793.43         248.82\n",
       "3               4         3135       2017-08-31     1198.46         381.10\n",
       "4               5          787       2017-10-01     1765.30         709.48"
      ]
     },
     "execution_count": 14,
     "metadata": {},
     "output_type": "execute_result"
    }
   ],
   "source": [
    "filtered_data.head()"
   ]
  },
  {
   "cell_type": "markdown",
   "id": "a6a65dd2",
   "metadata": {},
   "source": [
    "Here we are going to group by the data on Customer_id column and will perform following aggregation on rest of the coulmns.\n",
    "*  Calculating number of days between recent purchase date  and last purchase date\n",
    "*  Number of orders\n",
    "*  Calculate sum of List price\n",
    "*  Calculate sum of Standard price"
   ]
  },
  {
   "cell_type": "code",
   "execution_count": 16,
   "id": "e0f0d15d",
   "metadata": {},
   "outputs": [],
   "source": [
    "transaction_group = filtered_data.groupby('customer_id').agg({'transaction_date' : lambda date : (date.max()-date.min()).days,\n",
    "                                                             'transaction_id' : lambda num: len(num),\n",
    "                                                             'list_price' : lambda price: price.sum(),\n",
    "                                                             'standard_cost' : lambda cost: cost.sum()})"
   ]
  },
  {
   "cell_type": "code",
   "execution_count": 17,
   "id": "b3d32b8c",
   "metadata": {},
   "outputs": [
    {
     "data": {
      "text/html": [
       "<div>\n",
       "<style scoped>\n",
       "    .dataframe tbody tr th:only-of-type {\n",
       "        vertical-align: middle;\n",
       "    }\n",
       "\n",
       "    .dataframe tbody tr th {\n",
       "        vertical-align: top;\n",
       "    }\n",
       "\n",
       "    .dataframe thead th {\n",
       "        text-align: right;\n",
       "    }\n",
       "</style>\n",
       "<table border=\"1\" class=\"dataframe\">\n",
       "  <thead>\n",
       "    <tr style=\"text-align: right;\">\n",
       "      <th></th>\n",
       "      <th>transaction_date</th>\n",
       "      <th>transaction_id</th>\n",
       "      <th>list_price</th>\n",
       "      <th>standard_cost</th>\n",
       "    </tr>\n",
       "    <tr>\n",
       "      <th>customer_id</th>\n",
       "      <th></th>\n",
       "      <th></th>\n",
       "      <th></th>\n",
       "      <th></th>\n",
       "    </tr>\n",
       "  </thead>\n",
       "  <tbody>\n",
       "    <tr>\n",
       "      <th>1</th>\n",
       "      <td>352</td>\n",
       "      <td>11</td>\n",
       "      <td>9084.45</td>\n",
       "      <td>6066.36</td>\n",
       "    </tr>\n",
       "    <tr>\n",
       "      <th>2</th>\n",
       "      <td>112</td>\n",
       "      <td>3</td>\n",
       "      <td>4149.07</td>\n",
       "      <td>1922.81</td>\n",
       "    </tr>\n",
       "    <tr>\n",
       "      <th>3</th>\n",
       "      <td>208</td>\n",
       "      <td>8</td>\n",
       "      <td>9888.23</td>\n",
       "      <td>6525.42</td>\n",
       "    </tr>\n",
       "    <tr>\n",
       "      <th>4</th>\n",
       "      <td>76</td>\n",
       "      <td>2</td>\n",
       "      <td>1047.72</td>\n",
       "      <td>827.15</td>\n",
       "    </tr>\n",
       "    <tr>\n",
       "      <th>5</th>\n",
       "      <td>286</td>\n",
       "      <td>6</td>\n",
       "      <td>5903.20</td>\n",
       "      <td>3508.26</td>\n",
       "    </tr>\n",
       "  </tbody>\n",
       "</table>\n",
       "</div>"
      ],
      "text/plain": [
       "             transaction_date  transaction_id  list_price  standard_cost\n",
       "customer_id                                                             \n",
       "1                         352              11     9084.45        6066.36\n",
       "2                         112               3     4149.07        1922.81\n",
       "3                         208               8     9888.23        6525.42\n",
       "4                          76               2     1047.72         827.15\n",
       "5                         286               6     5903.20        3508.26"
      ]
     },
     "execution_count": 17,
     "metadata": {},
     "output_type": "execute_result"
    }
   ],
   "source": [
    "transaction_group.head()"
   ]
  },
  {
   "cell_type": "markdown",
   "id": "3710c605",
   "metadata": {},
   "source": [
    "<b> Renaming the Column</b> "
   ]
  },
  {
   "cell_type": "code",
   "execution_count": 20,
   "id": "82c2dbd2",
   "metadata": {},
   "outputs": [],
   "source": [
    "transaction_group.columns = ['num_days','num_transactions','selling_price', 'cost']"
   ]
  },
  {
   "cell_type": "code",
   "execution_count": 21,
   "id": "25882f8b",
   "metadata": {},
   "outputs": [
    {
     "data": {
      "text/html": [
       "<div>\n",
       "<style scoped>\n",
       "    .dataframe tbody tr th:only-of-type {\n",
       "        vertical-align: middle;\n",
       "    }\n",
       "\n",
       "    .dataframe tbody tr th {\n",
       "        vertical-align: top;\n",
       "    }\n",
       "\n",
       "    .dataframe thead th {\n",
       "        text-align: right;\n",
       "    }\n",
       "</style>\n",
       "<table border=\"1\" class=\"dataframe\">\n",
       "  <thead>\n",
       "    <tr style=\"text-align: right;\">\n",
       "      <th></th>\n",
       "      <th>num_days</th>\n",
       "      <th>num_transactions</th>\n",
       "      <th>selling_price</th>\n",
       "      <th>cost</th>\n",
       "    </tr>\n",
       "    <tr>\n",
       "      <th>customer_id</th>\n",
       "      <th></th>\n",
       "      <th></th>\n",
       "      <th></th>\n",
       "      <th></th>\n",
       "    </tr>\n",
       "  </thead>\n",
       "  <tbody>\n",
       "    <tr>\n",
       "      <th>1</th>\n",
       "      <td>352</td>\n",
       "      <td>11</td>\n",
       "      <td>9084.45</td>\n",
       "      <td>6066.36</td>\n",
       "    </tr>\n",
       "    <tr>\n",
       "      <th>2</th>\n",
       "      <td>112</td>\n",
       "      <td>3</td>\n",
       "      <td>4149.07</td>\n",
       "      <td>1922.81</td>\n",
       "    </tr>\n",
       "    <tr>\n",
       "      <th>3</th>\n",
       "      <td>208</td>\n",
       "      <td>8</td>\n",
       "      <td>9888.23</td>\n",
       "      <td>6525.42</td>\n",
       "    </tr>\n",
       "    <tr>\n",
       "      <th>4</th>\n",
       "      <td>76</td>\n",
       "      <td>2</td>\n",
       "      <td>1047.72</td>\n",
       "      <td>827.15</td>\n",
       "    </tr>\n",
       "    <tr>\n",
       "      <th>5</th>\n",
       "      <td>286</td>\n",
       "      <td>6</td>\n",
       "      <td>5903.20</td>\n",
       "      <td>3508.26</td>\n",
       "    </tr>\n",
       "  </tbody>\n",
       "</table>\n",
       "</div>"
      ],
      "text/plain": [
       "             num_days  num_transactions  selling_price     cost\n",
       "customer_id                                                    \n",
       "1                 352                11        9084.45  6066.36\n",
       "2                 112                 3        4149.07  1922.81\n",
       "3                 208                 8        9888.23  6525.42\n",
       "4                  76                 2        1047.72   827.15\n",
       "5                 286                 6        5903.20  3508.26"
      ]
     },
     "execution_count": 21,
     "metadata": {},
     "output_type": "execute_result"
    }
   ],
   "source": [
    "transaction_group.head()"
   ]
  },
  {
   "cell_type": "markdown",
   "id": "d60979f9",
   "metadata": {},
   "source": [
    "### Calculate CLTV using Formula"
   ]
  },
  {
   "cell_type": "markdown",
   "id": "e12c9f34",
   "metadata": {},
   "source": [
    "<div class=\"alert alert-block alert-info\">\n",
    "<b>Formula:</b> \n",
    "    \n",
    ">$CLTV = ((Average Order Value * Purchase Frequency)/Churn Rate)* Profit Margin $ <br>\n",
    "\n",
    ">$Customer Value = Average Order Value * Purchase Frequency $ <br>\n",
    "\n",
    "</div>"
   ]
  },
  {
   "cell_type": "markdown",
   "id": "2945bdf4",
   "metadata": {},
   "source": [
    "<b> 1. Calculating Average Order Value </b>"
   ]
  },
  {
   "cell_type": "code",
   "execution_count": 22,
   "id": "ab0a412b",
   "metadata": {},
   "outputs": [],
   "source": [
    "transaction_group['Avg_order_value'] = transaction_group['selling_price']/transaction_group['num_transactions']"
   ]
  },
  {
   "cell_type": "markdown",
   "id": "113a3988",
   "metadata": {},
   "source": [
    "<b> 2. Calculating Purchase Frequency </b> "
   ]
  },
  {
   "cell_type": "code",
   "execution_count": 24,
   "id": "be26bbb6",
   "metadata": {},
   "outputs": [],
   "source": [
    "Purchase_freq = sum(transaction_group.num_transactions >1)/transaction_group.shape[0]"
   ]
  },
  {
   "cell_type": "markdown",
   "id": "f1b23f53",
   "metadata": {},
   "source": [
    "<b> 3. Calculating Repeat Rate and Churn Rate </b> "
   ]
  },
  {
   "cell_type": "code",
   "execution_count": 25,
   "id": "f6e4b477",
   "metadata": {},
   "outputs": [],
   "source": [
    "Repeat_rate = transaction_group[transaction_group.num_transactions >1].shape[0]/transaction_group.shape[0]"
   ]
  },
  {
   "cell_type": "code",
   "execution_count": 26,
   "id": "eb0a72ef",
   "metadata": {},
   "outputs": [],
   "source": [
    "churn_rate = 1-Repeat_rate"
   ]
  },
  {
   "cell_type": "markdown",
   "id": "5a45b1b9",
   "metadata": {},
   "source": [
    "<b> Purchase Frequency, Repeat Rate, Churn Rate</b>"
   ]
  },
  {
   "cell_type": "code",
   "execution_count": 27,
   "id": "373739be",
   "metadata": {},
   "outputs": [
    {
     "name": "stdout",
     "output_type": "stream",
     "text": [
      "0.9842587292501431 0.9842587292501431 0.015741270749856873\n"
     ]
    }
   ],
   "source": [
    "print(Purchase_freq, Repeat_rate, churn_rate)"
   ]
  },
  {
   "cell_type": "markdown",
   "id": "a01b32b0",
   "metadata": {},
   "source": [
    "<b> 4. Calculating Profit Margin </b>"
   ]
  },
  {
   "cell_type": "code",
   "execution_count": 28,
   "id": "7d014c67",
   "metadata": {},
   "outputs": [],
   "source": [
    "transaction_group['Profit_margin'] = transaction_group['selling_price'] - transaction_group['cost']"
   ]
  },
  {
   "cell_type": "code",
   "execution_count": 29,
   "id": "ef49d51c",
   "metadata": {},
   "outputs": [
    {
     "data": {
      "text/html": [
       "<div>\n",
       "<style scoped>\n",
       "    .dataframe tbody tr th:only-of-type {\n",
       "        vertical-align: middle;\n",
       "    }\n",
       "\n",
       "    .dataframe tbody tr th {\n",
       "        vertical-align: top;\n",
       "    }\n",
       "\n",
       "    .dataframe thead th {\n",
       "        text-align: right;\n",
       "    }\n",
       "</style>\n",
       "<table border=\"1\" class=\"dataframe\">\n",
       "  <thead>\n",
       "    <tr style=\"text-align: right;\">\n",
       "      <th></th>\n",
       "      <th>num_days</th>\n",
       "      <th>num_transactions</th>\n",
       "      <th>selling_price</th>\n",
       "      <th>cost</th>\n",
       "      <th>Avg_order_value</th>\n",
       "      <th>Profit_margin</th>\n",
       "    </tr>\n",
       "    <tr>\n",
       "      <th>customer_id</th>\n",
       "      <th></th>\n",
       "      <th></th>\n",
       "      <th></th>\n",
       "      <th></th>\n",
       "      <th></th>\n",
       "      <th></th>\n",
       "    </tr>\n",
       "  </thead>\n",
       "  <tbody>\n",
       "    <tr>\n",
       "      <th>1</th>\n",
       "      <td>352</td>\n",
       "      <td>11</td>\n",
       "      <td>9084.45</td>\n",
       "      <td>6066.36</td>\n",
       "      <td>825.859091</td>\n",
       "      <td>3018.09</td>\n",
       "    </tr>\n",
       "    <tr>\n",
       "      <th>2</th>\n",
       "      <td>112</td>\n",
       "      <td>3</td>\n",
       "      <td>4149.07</td>\n",
       "      <td>1922.81</td>\n",
       "      <td>1383.023333</td>\n",
       "      <td>2226.26</td>\n",
       "    </tr>\n",
       "    <tr>\n",
       "      <th>3</th>\n",
       "      <td>208</td>\n",
       "      <td>8</td>\n",
       "      <td>9888.23</td>\n",
       "      <td>6525.42</td>\n",
       "      <td>1236.028750</td>\n",
       "      <td>3362.81</td>\n",
       "    </tr>\n",
       "    <tr>\n",
       "      <th>4</th>\n",
       "      <td>76</td>\n",
       "      <td>2</td>\n",
       "      <td>1047.72</td>\n",
       "      <td>827.15</td>\n",
       "      <td>523.860000</td>\n",
       "      <td>220.57</td>\n",
       "    </tr>\n",
       "    <tr>\n",
       "      <th>5</th>\n",
       "      <td>286</td>\n",
       "      <td>6</td>\n",
       "      <td>5903.20</td>\n",
       "      <td>3508.26</td>\n",
       "      <td>983.866667</td>\n",
       "      <td>2394.94</td>\n",
       "    </tr>\n",
       "  </tbody>\n",
       "</table>\n",
       "</div>"
      ],
      "text/plain": [
       "             num_days  num_transactions  selling_price     cost  \\\n",
       "customer_id                                                       \n",
       "1                 352                11        9084.45  6066.36   \n",
       "2                 112                 3        4149.07  1922.81   \n",
       "3                 208                 8        9888.23  6525.42   \n",
       "4                  76                 2        1047.72   827.15   \n",
       "5                 286                 6        5903.20  3508.26   \n",
       "\n",
       "             Avg_order_value  Profit_margin  \n",
       "customer_id                                  \n",
       "1                 825.859091        3018.09  \n",
       "2                1383.023333        2226.26  \n",
       "3                1236.028750        3362.81  \n",
       "4                 523.860000         220.57  \n",
       "5                 983.866667        2394.94  "
      ]
     },
     "execution_count": 29,
     "metadata": {},
     "output_type": "execute_result"
    }
   ],
   "source": [
    "transaction_group.head()"
   ]
  },
  {
   "cell_type": "markdown",
   "id": "841bda44",
   "metadata": {},
   "source": [
    "<b> 5. Calculating Customer Lifetime value "
   ]
  },
  {
   "cell_type": "code",
   "execution_count": 30,
   "id": "18020155",
   "metadata": {},
   "outputs": [],
   "source": [
    "#Customer Value\n",
    "transaction_group['CLV'] = (transaction_group['Avg_order_value']* Purchase_freq)/churn_rate"
   ]
  },
  {
   "cell_type": "code",
   "execution_count": 71,
   "id": "e8b7cd2f",
   "metadata": {},
   "outputs": [],
   "source": [
    "#Customer Lifetime Value\n",
    "transaction_group['Customer_lifetime_value']= transaction_group['CLV']* transaction_group['Profit_margin']"
   ]
  },
  {
   "cell_type": "code",
   "execution_count": 32,
   "id": "b41b60a0",
   "metadata": {},
   "outputs": [
    {
     "data": {
      "text/html": [
       "<div>\n",
       "<style scoped>\n",
       "    .dataframe tbody tr th:only-of-type {\n",
       "        vertical-align: middle;\n",
       "    }\n",
       "\n",
       "    .dataframe tbody tr th {\n",
       "        vertical-align: top;\n",
       "    }\n",
       "\n",
       "    .dataframe thead th {\n",
       "        text-align: right;\n",
       "    }\n",
       "</style>\n",
       "<table border=\"1\" class=\"dataframe\">\n",
       "  <thead>\n",
       "    <tr style=\"text-align: right;\">\n",
       "      <th></th>\n",
       "      <th>num_days</th>\n",
       "      <th>num_transactions</th>\n",
       "      <th>selling_price</th>\n",
       "      <th>cost</th>\n",
       "      <th>Avg_order_value</th>\n",
       "      <th>Profit_margin</th>\n",
       "      <th>CLV</th>\n",
       "      <th>Customer_lifetime_value</th>\n",
       "    </tr>\n",
       "    <tr>\n",
       "      <th>customer_id</th>\n",
       "      <th></th>\n",
       "      <th></th>\n",
       "      <th></th>\n",
       "      <th></th>\n",
       "      <th></th>\n",
       "      <th></th>\n",
       "      <th></th>\n",
       "      <th></th>\n",
       "    </tr>\n",
       "  </thead>\n",
       "  <tbody>\n",
       "    <tr>\n",
       "      <th>1</th>\n",
       "      <td>352</td>\n",
       "      <td>11</td>\n",
       "      <td>9084.45</td>\n",
       "      <td>6066.36</td>\n",
       "      <td>825.859091</td>\n",
       "      <td>3018.09</td>\n",
       "      <td>51638.716612</td>\n",
       "      <td>1.558503e+08</td>\n",
       "    </tr>\n",
       "    <tr>\n",
       "      <th>2</th>\n",
       "      <td>112</td>\n",
       "      <td>3</td>\n",
       "      <td>4149.07</td>\n",
       "      <td>1922.81</td>\n",
       "      <td>1383.023333</td>\n",
       "      <td>2226.26</td>\n",
       "      <td>86476.677152</td>\n",
       "      <td>1.925196e+08</td>\n",
       "    </tr>\n",
       "    <tr>\n",
       "      <th>3</th>\n",
       "      <td>208</td>\n",
       "      <td>8</td>\n",
       "      <td>9888.23</td>\n",
       "      <td>6525.42</td>\n",
       "      <td>1236.028750</td>\n",
       "      <td>3362.81</td>\n",
       "      <td>77285.506750</td>\n",
       "      <td>2.598965e+08</td>\n",
       "    </tr>\n",
       "    <tr>\n",
       "      <th>4</th>\n",
       "      <td>76</td>\n",
       "      <td>2</td>\n",
       "      <td>1047.72</td>\n",
       "      <td>827.15</td>\n",
       "      <td>523.860000</td>\n",
       "      <td>220.57</td>\n",
       "      <td>32755.537091</td>\n",
       "      <td>7.224889e+06</td>\n",
       "    </tr>\n",
       "    <tr>\n",
       "      <th>5</th>\n",
       "      <td>286</td>\n",
       "      <td>6</td>\n",
       "      <td>5903.20</td>\n",
       "      <td>3508.26</td>\n",
       "      <td>983.866667</td>\n",
       "      <td>2394.94</td>\n",
       "      <td>61518.499394</td>\n",
       "      <td>1.473331e+08</td>\n",
       "    </tr>\n",
       "  </tbody>\n",
       "</table>\n",
       "</div>"
      ],
      "text/plain": [
       "             num_days  num_transactions  selling_price     cost  \\\n",
       "customer_id                                                       \n",
       "1                 352                11        9084.45  6066.36   \n",
       "2                 112                 3        4149.07  1922.81   \n",
       "3                 208                 8        9888.23  6525.42   \n",
       "4                  76                 2        1047.72   827.15   \n",
       "5                 286                 6        5903.20  3508.26   \n",
       "\n",
       "             Avg_order_value  Profit_margin           CLV  \\\n",
       "customer_id                                                 \n",
       "1                 825.859091        3018.09  51638.716612   \n",
       "2                1383.023333        2226.26  86476.677152   \n",
       "3                1236.028750        3362.81  77285.506750   \n",
       "4                 523.860000         220.57  32755.537091   \n",
       "5                 983.866667        2394.94  61518.499394   \n",
       "\n",
       "             Customer_lifetime_value  \n",
       "customer_id                           \n",
       "1                       1.558503e+08  \n",
       "2                       1.925196e+08  \n",
       "3                       2.598965e+08  \n",
       "4                       7.224889e+06  \n",
       "5                       1.473331e+08  "
      ]
     },
     "execution_count": 32,
     "metadata": {},
     "output_type": "execute_result"
    }
   ],
   "source": [
    "transaction_group.head()"
   ]
  },
  {
   "cell_type": "markdown",
   "id": "eded4073",
   "metadata": {},
   "source": [
    "### Prediction Model for CLTV"
   ]
  },
  {
   "cell_type": "markdown",
   "id": "8a42d7b5",
   "metadata": {},
   "source": [
    "Now we are going to built the prediction model for CLTV using Liner Regression Model\n",
    "\n",
    "For this we are going to use loaded data and our filtered data. "
   ]
  },
  {
   "cell_type": "code",
   "execution_count": 33,
   "id": "bee587c2",
   "metadata": {},
   "outputs": [
    {
     "data": {
      "text/html": [
       "<div>\n",
       "<style scoped>\n",
       "    .dataframe tbody tr th:only-of-type {\n",
       "        vertical-align: middle;\n",
       "    }\n",
       "\n",
       "    .dataframe tbody tr th {\n",
       "        vertical-align: top;\n",
       "    }\n",
       "\n",
       "    .dataframe thead th {\n",
       "        text-align: right;\n",
       "    }\n",
       "</style>\n",
       "<table border=\"1\" class=\"dataframe\">\n",
       "  <thead>\n",
       "    <tr style=\"text-align: right;\">\n",
       "      <th></th>\n",
       "      <th>transaction_id</th>\n",
       "      <th>customer_id</th>\n",
       "      <th>transaction_date</th>\n",
       "      <th>list_price</th>\n",
       "      <th>standard_cost</th>\n",
       "    </tr>\n",
       "  </thead>\n",
       "  <tbody>\n",
       "    <tr>\n",
       "      <th>0</th>\n",
       "      <td>1</td>\n",
       "      <td>2950</td>\n",
       "      <td>2017-02-25</td>\n",
       "      <td>71.49</td>\n",
       "      <td>53.62</td>\n",
       "    </tr>\n",
       "    <tr>\n",
       "      <th>1</th>\n",
       "      <td>2</td>\n",
       "      <td>3120</td>\n",
       "      <td>2017-05-21</td>\n",
       "      <td>2091.47</td>\n",
       "      <td>388.92</td>\n",
       "    </tr>\n",
       "    <tr>\n",
       "      <th>2</th>\n",
       "      <td>3</td>\n",
       "      <td>402</td>\n",
       "      <td>2017-10-16</td>\n",
       "      <td>1793.43</td>\n",
       "      <td>248.82</td>\n",
       "    </tr>\n",
       "    <tr>\n",
       "      <th>3</th>\n",
       "      <td>4</td>\n",
       "      <td>3135</td>\n",
       "      <td>2017-08-31</td>\n",
       "      <td>1198.46</td>\n",
       "      <td>381.10</td>\n",
       "    </tr>\n",
       "    <tr>\n",
       "      <th>4</th>\n",
       "      <td>5</td>\n",
       "      <td>787</td>\n",
       "      <td>2017-10-01</td>\n",
       "      <td>1765.30</td>\n",
       "      <td>709.48</td>\n",
       "    </tr>\n",
       "  </tbody>\n",
       "</table>\n",
       "</div>"
      ],
      "text/plain": [
       "   transaction_id  customer_id transaction_date  list_price  standard_cost\n",
       "0               1         2950       2017-02-25       71.49          53.62\n",
       "1               2         3120       2017-05-21     2091.47         388.92\n",
       "2               3          402       2017-10-16     1793.43         248.82\n",
       "3               4         3135       2017-08-31     1198.46         381.10\n",
       "4               5          787       2017-10-01     1765.30         709.48"
      ]
     },
     "execution_count": 33,
     "metadata": {},
     "output_type": "execute_result"
    }
   ],
   "source": [
    "# prediction model\n",
    "\n",
    "filtered_data.head()"
   ]
  },
  {
   "cell_type": "markdown",
   "id": "a9a4a75d",
   "metadata": {},
   "source": [
    "Extrating month and year from the transaction date"
   ]
  },
  {
   "cell_type": "code",
   "execution_count": 34,
   "id": "73ac1a4d",
   "metadata": {},
   "outputs": [
    {
     "name": "stderr",
     "output_type": "stream",
     "text": [
      "C:\\Users\\Dell\\AppData\\Local\\Temp\\ipykernel_33572\\1763148451.py:1: SettingWithCopyWarning: \n",
      "A value is trying to be set on a copy of a slice from a DataFrame.\n",
      "Try using .loc[row_indexer,col_indexer] = value instead\n",
      "\n",
      "See the caveats in the documentation: https://pandas.pydata.org/pandas-docs/stable/user_guide/indexing.html#returning-a-view-versus-a-copy\n",
      "  filtered_data['month_yr']=filtered_data['transaction_date'].apply(lambda x: x.strftime('%b-%Y'))\n"
     ]
    }
   ],
   "source": [
    "filtered_data['month_yr']=filtered_data['transaction_date'].apply(lambda x: x.strftime('%b-%Y'))"
   ]
  },
  {
   "cell_type": "code",
   "execution_count": 35,
   "id": "a78f55bf",
   "metadata": {},
   "outputs": [
    {
     "data": {
      "text/html": [
       "<div>\n",
       "<style scoped>\n",
       "    .dataframe tbody tr th:only-of-type {\n",
       "        vertical-align: middle;\n",
       "    }\n",
       "\n",
       "    .dataframe tbody tr th {\n",
       "        vertical-align: top;\n",
       "    }\n",
       "\n",
       "    .dataframe thead th {\n",
       "        text-align: right;\n",
       "    }\n",
       "</style>\n",
       "<table border=\"1\" class=\"dataframe\">\n",
       "  <thead>\n",
       "    <tr style=\"text-align: right;\">\n",
       "      <th></th>\n",
       "      <th>transaction_id</th>\n",
       "      <th>customer_id</th>\n",
       "      <th>transaction_date</th>\n",
       "      <th>list_price</th>\n",
       "      <th>standard_cost</th>\n",
       "      <th>month_yr</th>\n",
       "    </tr>\n",
       "  </thead>\n",
       "  <tbody>\n",
       "    <tr>\n",
       "      <th>0</th>\n",
       "      <td>1</td>\n",
       "      <td>2950</td>\n",
       "      <td>2017-02-25</td>\n",
       "      <td>71.49</td>\n",
       "      <td>53.62</td>\n",
       "      <td>Feb-2017</td>\n",
       "    </tr>\n",
       "    <tr>\n",
       "      <th>1</th>\n",
       "      <td>2</td>\n",
       "      <td>3120</td>\n",
       "      <td>2017-05-21</td>\n",
       "      <td>2091.47</td>\n",
       "      <td>388.92</td>\n",
       "      <td>May-2017</td>\n",
       "    </tr>\n",
       "    <tr>\n",
       "      <th>2</th>\n",
       "      <td>3</td>\n",
       "      <td>402</td>\n",
       "      <td>2017-10-16</td>\n",
       "      <td>1793.43</td>\n",
       "      <td>248.82</td>\n",
       "      <td>Oct-2017</td>\n",
       "    </tr>\n",
       "    <tr>\n",
       "      <th>3</th>\n",
       "      <td>4</td>\n",
       "      <td>3135</td>\n",
       "      <td>2017-08-31</td>\n",
       "      <td>1198.46</td>\n",
       "      <td>381.10</td>\n",
       "      <td>Aug-2017</td>\n",
       "    </tr>\n",
       "    <tr>\n",
       "      <th>4</th>\n",
       "      <td>5</td>\n",
       "      <td>787</td>\n",
       "      <td>2017-10-01</td>\n",
       "      <td>1765.30</td>\n",
       "      <td>709.48</td>\n",
       "      <td>Oct-2017</td>\n",
       "    </tr>\n",
       "  </tbody>\n",
       "</table>\n",
       "</div>"
      ],
      "text/plain": [
       "   transaction_id  customer_id transaction_date  list_price  standard_cost  \\\n",
       "0               1         2950       2017-02-25       71.49          53.62   \n",
       "1               2         3120       2017-05-21     2091.47         388.92   \n",
       "2               3          402       2017-10-16     1793.43         248.82   \n",
       "3               4         3135       2017-08-31     1198.46         381.10   \n",
       "4               5          787       2017-10-01     1765.30         709.48   \n",
       "\n",
       "   month_yr  \n",
       "0  Feb-2017  \n",
       "1  May-2017  \n",
       "2  Oct-2017  \n",
       "3  Aug-2017  \n",
       "4  Oct-2017  "
      ]
     },
     "execution_count": 35,
     "metadata": {},
     "output_type": "execute_result"
    }
   ],
   "source": [
    "filtered_data.head()"
   ]
  },
  {
   "cell_type": "markdown",
   "id": "31601c1b",
   "metadata": {},
   "source": [
    "Creating Pivot Table which takes the columns as input, and groups the entries into 2 dimensional table and will provide multi dimensional summarization of the data."
   ]
  },
  {
   "cell_type": "code",
   "execution_count": 38,
   "id": "953745ef",
   "metadata": {},
   "outputs": [],
   "source": [
    "# creating Pivot Tablea\n",
    "\n",
    "sale=filtered_data.pivot_table(index=['customer_id'], columns = ['month_yr'], values='list_price', aggfunc='sum', fill_value=0).reset_index()"
   ]
  },
  {
   "cell_type": "code",
   "execution_count": 39,
   "id": "c7966f58",
   "metadata": {},
   "outputs": [
    {
     "data": {
      "text/html": [
       "<div>\n",
       "<style scoped>\n",
       "    .dataframe tbody tr th:only-of-type {\n",
       "        vertical-align: middle;\n",
       "    }\n",
       "\n",
       "    .dataframe tbody tr th {\n",
       "        vertical-align: top;\n",
       "    }\n",
       "\n",
       "    .dataframe thead th {\n",
       "        text-align: right;\n",
       "    }\n",
       "</style>\n",
       "<table border=\"1\" class=\"dataframe\">\n",
       "  <thead>\n",
       "    <tr style=\"text-align: right;\">\n",
       "      <th>month_yr</th>\n",
       "      <th>customer_id</th>\n",
       "      <th>Apr-2017</th>\n",
       "      <th>Aug-2017</th>\n",
       "      <th>Dec-2017</th>\n",
       "      <th>Feb-2017</th>\n",
       "      <th>Jan-2017</th>\n",
       "      <th>Jul-2017</th>\n",
       "      <th>Jun-2017</th>\n",
       "      <th>Mar-2017</th>\n",
       "      <th>May-2017</th>\n",
       "      <th>Nov-2017</th>\n",
       "      <th>Oct-2017</th>\n",
       "      <th>Sep-2017</th>\n",
       "    </tr>\n",
       "  </thead>\n",
       "  <tbody>\n",
       "    <tr>\n",
       "      <th>0</th>\n",
       "      <td>1</td>\n",
       "      <td>1577.53</td>\n",
       "      <td>0.00</td>\n",
       "      <td>1209.08</td>\n",
       "      <td>71.49</td>\n",
       "      <td>360.4</td>\n",
       "      <td>0.0</td>\n",
       "      <td>642.70</td>\n",
       "      <td>1963.56</td>\n",
       "      <td>3259.69</td>\n",
       "      <td>0.0</td>\n",
       "      <td>0.0</td>\n",
       "      <td>0.00</td>\n",
       "    </tr>\n",
       "    <tr>\n",
       "      <th>1</th>\n",
       "      <td>2</td>\n",
       "      <td>0.00</td>\n",
       "      <td>1992.93</td>\n",
       "      <td>0.00</td>\n",
       "      <td>0.00</td>\n",
       "      <td>0.0</td>\n",
       "      <td>0.0</td>\n",
       "      <td>752.64</td>\n",
       "      <td>0.00</td>\n",
       "      <td>1403.50</td>\n",
       "      <td>0.0</td>\n",
       "      <td>0.0</td>\n",
       "      <td>0.00</td>\n",
       "    </tr>\n",
       "    <tr>\n",
       "      <th>2</th>\n",
       "      <td>3</td>\n",
       "      <td>3134.50</td>\n",
       "      <td>0.00</td>\n",
       "      <td>0.00</td>\n",
       "      <td>1311.44</td>\n",
       "      <td>0.0</td>\n",
       "      <td>0.0</td>\n",
       "      <td>363.01</td>\n",
       "      <td>1148.64</td>\n",
       "      <td>0.00</td>\n",
       "      <td>0.0</td>\n",
       "      <td>0.0</td>\n",
       "      <td>3930.64</td>\n",
       "    </tr>\n",
       "    <tr>\n",
       "      <th>3</th>\n",
       "      <td>4</td>\n",
       "      <td>569.56</td>\n",
       "      <td>0.00</td>\n",
       "      <td>0.00</td>\n",
       "      <td>0.00</td>\n",
       "      <td>0.0</td>\n",
       "      <td>0.0</td>\n",
       "      <td>478.16</td>\n",
       "      <td>0.00</td>\n",
       "      <td>0.00</td>\n",
       "      <td>0.0</td>\n",
       "      <td>0.0</td>\n",
       "      <td>0.00</td>\n",
       "    </tr>\n",
       "    <tr>\n",
       "      <th>4</th>\n",
       "      <td>5</td>\n",
       "      <td>1163.89</td>\n",
       "      <td>774.53</td>\n",
       "      <td>1812.75</td>\n",
       "      <td>0.00</td>\n",
       "      <td>0.0</td>\n",
       "      <td>0.0</td>\n",
       "      <td>0.00</td>\n",
       "      <td>688.63</td>\n",
       "      <td>1463.40</td>\n",
       "      <td>0.0</td>\n",
       "      <td>0.0</td>\n",
       "      <td>0.00</td>\n",
       "    </tr>\n",
       "  </tbody>\n",
       "</table>\n",
       "</div>"
      ],
      "text/plain": [
       "month_yr  customer_id  Apr-2017  Aug-2017  Dec-2017  Feb-2017  Jan-2017  \\\n",
       "0                   1   1577.53      0.00   1209.08     71.49     360.4   \n",
       "1                   2      0.00   1992.93      0.00      0.00       0.0   \n",
       "2                   3   3134.50      0.00      0.00   1311.44       0.0   \n",
       "3                   4    569.56      0.00      0.00      0.00       0.0   \n",
       "4                   5   1163.89    774.53   1812.75      0.00       0.0   \n",
       "\n",
       "month_yr  Jul-2017  Jun-2017  Mar-2017  May-2017  Nov-2017  Oct-2017  Sep-2017  \n",
       "0              0.0    642.70   1963.56   3259.69       0.0       0.0      0.00  \n",
       "1              0.0    752.64      0.00   1403.50       0.0       0.0      0.00  \n",
       "2              0.0    363.01   1148.64      0.00       0.0       0.0   3930.64  \n",
       "3              0.0    478.16      0.00      0.00       0.0       0.0      0.00  \n",
       "4              0.0      0.00    688.63   1463.40       0.0       0.0      0.00  "
      ]
     },
     "execution_count": 39,
     "metadata": {},
     "output_type": "execute_result"
    }
   ],
   "source": [
    "sale.head()"
   ]
  },
  {
   "cell_type": "markdown",
   "id": "a157fbec",
   "metadata": {},
   "source": [
    "Summing up all the months Sales"
   ]
  },
  {
   "cell_type": "code",
   "execution_count": 41,
   "id": "3a88bec9",
   "metadata": {},
   "outputs": [],
   "source": [
    "sale['CLV']= sale.iloc[:,2:].sum(axis=1)"
   ]
  },
  {
   "cell_type": "code",
   "execution_count": 42,
   "id": "ee836e7e",
   "metadata": {},
   "outputs": [
    {
     "data": {
      "text/html": [
       "<div>\n",
       "<style scoped>\n",
       "    .dataframe tbody tr th:only-of-type {\n",
       "        vertical-align: middle;\n",
       "    }\n",
       "\n",
       "    .dataframe tbody tr th {\n",
       "        vertical-align: top;\n",
       "    }\n",
       "\n",
       "    .dataframe thead th {\n",
       "        text-align: right;\n",
       "    }\n",
       "</style>\n",
       "<table border=\"1\" class=\"dataframe\">\n",
       "  <thead>\n",
       "    <tr style=\"text-align: right;\">\n",
       "      <th>month_yr</th>\n",
       "      <th>customer_id</th>\n",
       "      <th>Apr-2017</th>\n",
       "      <th>Aug-2017</th>\n",
       "      <th>Dec-2017</th>\n",
       "      <th>Feb-2017</th>\n",
       "      <th>Jan-2017</th>\n",
       "      <th>Jul-2017</th>\n",
       "      <th>Jun-2017</th>\n",
       "      <th>Mar-2017</th>\n",
       "      <th>May-2017</th>\n",
       "      <th>Nov-2017</th>\n",
       "      <th>Oct-2017</th>\n",
       "      <th>Sep-2017</th>\n",
       "      <th>CLV</th>\n",
       "    </tr>\n",
       "  </thead>\n",
       "  <tbody>\n",
       "    <tr>\n",
       "      <th>0</th>\n",
       "      <td>1</td>\n",
       "      <td>1577.53</td>\n",
       "      <td>0.00</td>\n",
       "      <td>1209.08</td>\n",
       "      <td>71.49</td>\n",
       "      <td>360.4</td>\n",
       "      <td>0.0</td>\n",
       "      <td>642.70</td>\n",
       "      <td>1963.56</td>\n",
       "      <td>3259.69</td>\n",
       "      <td>0.0</td>\n",
       "      <td>0.0</td>\n",
       "      <td>0.00</td>\n",
       "      <td>7506.92</td>\n",
       "    </tr>\n",
       "    <tr>\n",
       "      <th>1</th>\n",
       "      <td>2</td>\n",
       "      <td>0.00</td>\n",
       "      <td>1992.93</td>\n",
       "      <td>0.00</td>\n",
       "      <td>0.00</td>\n",
       "      <td>0.0</td>\n",
       "      <td>0.0</td>\n",
       "      <td>752.64</td>\n",
       "      <td>0.00</td>\n",
       "      <td>1403.50</td>\n",
       "      <td>0.0</td>\n",
       "      <td>0.0</td>\n",
       "      <td>0.00</td>\n",
       "      <td>4149.07</td>\n",
       "    </tr>\n",
       "    <tr>\n",
       "      <th>2</th>\n",
       "      <td>3</td>\n",
       "      <td>3134.50</td>\n",
       "      <td>0.00</td>\n",
       "      <td>0.00</td>\n",
       "      <td>1311.44</td>\n",
       "      <td>0.0</td>\n",
       "      <td>0.0</td>\n",
       "      <td>363.01</td>\n",
       "      <td>1148.64</td>\n",
       "      <td>0.00</td>\n",
       "      <td>0.0</td>\n",
       "      <td>0.0</td>\n",
       "      <td>3930.64</td>\n",
       "      <td>6753.73</td>\n",
       "    </tr>\n",
       "    <tr>\n",
       "      <th>3</th>\n",
       "      <td>4</td>\n",
       "      <td>569.56</td>\n",
       "      <td>0.00</td>\n",
       "      <td>0.00</td>\n",
       "      <td>0.00</td>\n",
       "      <td>0.0</td>\n",
       "      <td>0.0</td>\n",
       "      <td>478.16</td>\n",
       "      <td>0.00</td>\n",
       "      <td>0.00</td>\n",
       "      <td>0.0</td>\n",
       "      <td>0.0</td>\n",
       "      <td>0.00</td>\n",
       "      <td>478.16</td>\n",
       "    </tr>\n",
       "    <tr>\n",
       "      <th>4</th>\n",
       "      <td>5</td>\n",
       "      <td>1163.89</td>\n",
       "      <td>774.53</td>\n",
       "      <td>1812.75</td>\n",
       "      <td>0.00</td>\n",
       "      <td>0.0</td>\n",
       "      <td>0.0</td>\n",
       "      <td>0.00</td>\n",
       "      <td>688.63</td>\n",
       "      <td>1463.40</td>\n",
       "      <td>0.0</td>\n",
       "      <td>0.0</td>\n",
       "      <td>0.00</td>\n",
       "      <td>4739.31</td>\n",
       "    </tr>\n",
       "  </tbody>\n",
       "</table>\n",
       "</div>"
      ],
      "text/plain": [
       "month_yr  customer_id  Apr-2017  Aug-2017  Dec-2017  Feb-2017  Jan-2017  \\\n",
       "0                   1   1577.53      0.00   1209.08     71.49     360.4   \n",
       "1                   2      0.00   1992.93      0.00      0.00       0.0   \n",
       "2                   3   3134.50      0.00      0.00   1311.44       0.0   \n",
       "3                   4    569.56      0.00      0.00      0.00       0.0   \n",
       "4                   5   1163.89    774.53   1812.75      0.00       0.0   \n",
       "\n",
       "month_yr  Jul-2017  Jun-2017  Mar-2017  May-2017  Nov-2017  Oct-2017  \\\n",
       "0              0.0    642.70   1963.56   3259.69       0.0       0.0   \n",
       "1              0.0    752.64      0.00   1403.50       0.0       0.0   \n",
       "2              0.0    363.01   1148.64      0.00       0.0       0.0   \n",
       "3              0.0    478.16      0.00      0.00       0.0       0.0   \n",
       "4              0.0      0.00    688.63   1463.40       0.0       0.0   \n",
       "\n",
       "month_yr  Sep-2017      CLV  \n",
       "0             0.00  7506.92  \n",
       "1             0.00  4149.07  \n",
       "2          3930.64  6753.73  \n",
       "3             0.00   478.16  \n",
       "4             0.00  4739.31  "
      ]
     },
     "execution_count": 42,
     "metadata": {},
     "output_type": "execute_result"
    }
   ],
   "source": [
    "sale.head()"
   ]
  },
  {
   "cell_type": "code",
   "execution_count": 43,
   "id": "2e3a9702",
   "metadata": {},
   "outputs": [
    {
     "data": {
      "text/plain": [
       "Index(['customer_id', 'Apr-2017', 'Aug-2017', 'Dec-2017', 'Feb-2017',\n",
       "       'Jan-2017', 'Jul-2017', 'Jun-2017', 'Mar-2017', 'May-2017', 'Nov-2017',\n",
       "       'Oct-2017', 'Sep-2017', 'CLV'],\n",
       "      dtype='object', name='month_yr')"
      ]
     },
     "execution_count": 43,
     "metadata": {},
     "output_type": "execute_result"
    }
   ],
   "source": [
    "sale.columns"
   ]
  },
  {
   "cell_type": "markdown",
   "id": "76266c1a",
   "metadata": {},
   "source": [
    "Now we are going to divide the data for Training and Testing the module."
   ]
  },
  {
   "cell_type": "markdown",
   "id": "d3b905cc",
   "metadata": {},
   "source": [
    "#### Selecting Features for Trainnig and Testing"
   ]
  },
  {
   "cell_type": "markdown",
   "id": "d2736b8f",
   "metadata": {},
   "source": [
    "Here we are going to divide the columns into X and Y Variable where X is the last six months data as independent variable and Y as the Total sales as dependent variable."
   ]
  },
  {
   "cell_type": "code",
   "execution_count": 50,
   "id": "1ec12479",
   "metadata": {},
   "outputs": [],
   "source": [
    "X =sale[['Dec-2017','Nov-2017','Oct-2017', 'Sep-2017', 'Aug-2017','Jul-2017']]\n",
    "y=sale[['CLV']]"
   ]
  },
  {
   "cell_type": "markdown",
   "id": "2b263255",
   "metadata": {},
   "source": [
    "Importing required Library"
   ]
  },
  {
   "cell_type": "code",
   "execution_count": 45,
   "id": "c45a4946",
   "metadata": {},
   "outputs": [],
   "source": [
    "from sklearn.model_selection import train_test_split"
   ]
  },
  {
   "cell_type": "markdown",
   "id": "c6147ccf",
   "metadata": {},
   "source": [
    "<b> Train-test Split </b> \n",
    "\n",
    "The train-test split is a technique for evaluating the performance of a machine learning algorithm.\n",
    "\n",
    "It can be used for classification or regression problems and can be used for any supervised learning algorithm.\n",
    "\n",
    "The procedure involves taking a dataset and dividing it into two subsets. The first subset is used to fit the model and is referred to as the training dataset. The second subset is not used to train the model; instead, the input element of the dataset is provided to the model, then predictions are made and compared to the expected values. This second dataset is referred to as the test dataset.\n",
    "\n",
    "*  Train Dataset: Used to fit the machine learning model.\n",
    "*  Test Dataset: Used to evaluate the fit machine learning model."
   ]
  },
  {
   "cell_type": "code",
   "execution_count": 57,
   "id": "ae95c57e",
   "metadata": {},
   "outputs": [],
   "source": [
    "X_train,X_test, y_train,y_test= train_test_split(X,y, random_state=101)"
   ]
  },
  {
   "cell_type": "markdown",
   "id": "ae32d079",
   "metadata": {},
   "source": [
    "### Model Development"
   ]
  },
  {
   "cell_type": "markdown",
   "id": "a56f149b",
   "metadata": {},
   "source": [
    "Importing the Liner Regression model. Then fit your model on the train set using fit() and then perform prediction on the test set using predict()"
   ]
  },
  {
   "cell_type": "code",
   "execution_count": 58,
   "id": "6291b5a8",
   "metadata": {},
   "outputs": [],
   "source": [
    "from sklearn.linear_model import LinearRegression"
   ]
  },
  {
   "cell_type": "code",
   "execution_count": 59,
   "id": "ae7afd81",
   "metadata": {},
   "outputs": [],
   "source": [
    "# initiate \n",
    "\n",
    "linreg = LinearRegression()\n",
    "\n",
    "# fit the model\n",
    "linreg.fit(X_train,y_train)\n",
    "\n",
    "# Predict The model\n",
    "y_pred= linreg.predict(X_test)"
   ]
  },
  {
   "cell_type": "code",
   "execution_count": 60,
   "id": "ed94824e",
   "metadata": {},
   "outputs": [
    {
     "data": {
      "text/plain": [
       "array([[0.9903775 , 1.0231265 , 0.95525256, 1.02151772, 0.95859498,\n",
       "        0.94481856]])"
      ]
     },
     "execution_count": 60,
     "metadata": {},
     "output_type": "execute_result"
    }
   ],
   "source": [
    "linreg.coef_"
   ]
  },
  {
   "cell_type": "markdown",
   "id": "2a8fcfaf",
   "metadata": {},
   "source": [
    "### How well does your model fit the data?"
   ]
  },
  {
   "cell_type": "markdown",
   "id": "1bdf1d6d",
   "metadata": {},
   "source": [
    "To evaluate how well the overall fit of the linear Regression model, we are going to use the R-Square. It is rthe proportion of variance explained by the model. R-squared value lies between 0 and 1 and higher the value better. "
   ]
  },
  {
   "cell_type": "code",
   "execution_count": 61,
   "id": "e43ca0b1",
   "metadata": {},
   "outputs": [],
   "source": [
    "from sklearn import metrics"
   ]
  },
  {
   "cell_type": "code",
   "execution_count": 62,
   "id": "a96edab3",
   "metadata": {},
   "outputs": [
    {
     "name": "stdout",
     "output_type": "stream",
     "text": [
      "R-Square: 0.5412886748967976\n"
     ]
    }
   ],
   "source": [
    "print(\"R-Square:\",metrics.r2_score(y_test, y_pred))"
   ]
  },
  {
   "cell_type": "markdown",
   "id": "29844dcd",
   "metadata": {},
   "source": [
    "This model has R-squared(0.54).This model provides the medium fit to the data. "
   ]
  }
 ],
 "metadata": {
  "kernelspec": {
   "display_name": "Python 3 (ipykernel)",
   "language": "python",
   "name": "python3"
  },
  "language_info": {
   "codemirror_mode": {
    "name": "ipython",
    "version": 3
   },
   "file_extension": ".py",
   "mimetype": "text/x-python",
   "name": "python",
   "nbconvert_exporter": "python",
   "pygments_lexer": "ipython3",
   "version": "3.9.12"
  }
 },
 "nbformat": 4,
 "nbformat_minor": 5
}
